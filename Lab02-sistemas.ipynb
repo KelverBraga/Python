{
 "cells": [
  {
   "cell_type": "markdown",
   "metadata": {},
   "source": [
    "# Lab - Sistemas\n",
    "\n",
    "*Processamento Digital de Sinais - UFPR - Prof. Eduardo Parente Ribeiro*\n",
    "\n",
    "Nesta tarefa voce deve implementar sistemas discretos.\n",
    "Para tanto crie uma função que implemente uma equação que forneça uma saída y (*array*) a partir do sinal discreto de entrada x (*array*).\n",
    "Teste o sistema com a sequência $x = \\{0, 0, 0, 1, 3, 5, 0, 0, 0\\}$, onde o primeiro valor corresponde a $n=0$. O *array* de saída pode ter tamanho diferente do *array* de entrada.\n",
    "\n",
    "Criar uma função para cada sistema. Exemplo de sistema que atrasa N unidades:<br>\n",
    "$y[n]= T\\{x[n]\\}=x[n-N]$"
   ]
  },
  {
   "cell_type": "code",
   "execution_count": 1,
   "metadata": {},
   "outputs": [],
   "source": [
    "from pylab import *"
   ]
  },
  {
   "cell_type": "code",
   "execution_count": 2,
   "metadata": {},
   "outputs": [],
   "source": [
    "# deslocamento de 2 unidades\n",
    "def sistema_Ex(x):\n",
    "   y=concatenate((zeros(2),x))\n",
    "   return y\n"
   ]
  },
  {
   "cell_type": "markdown",
   "metadata": {},
   "source": [
    "para verificar o resultado use:"
   ]
  },
  {
   "cell_type": "code",
   "execution_count": 3,
   "metadata": {},
   "outputs": [
    {
     "data": {
      "image/png": "[encoded data removed]",
      "text/plain": [
       "<Figure size 432x288 with 1 Axes>"
      ]
     },
     "metadata": {
      "needs_background": "light"
     },
     "output_type": "display_data"
    }
   ],
   "source": [
    "n=arange(9)\n",
    "x=array([0, 0, 0, 1, 3, 5, 4, 0, 0]);\n",
    "# realiza deslocamento de N=2 unidades....\n",
    "y=sistema_Ex(x)\n",
    "ny=arange(11)\n",
    "stem(n,x,linefmt='b-',markerfmt='bo',basefmt='b',label='x')\n",
    "# plota a saida deslocada de 0.1 para \"enxergar\" o valor\n",
    "stem(ny+0.1,y,linefmt='r-',markerfmt='ro',basefmt='r',label='y')\n",
    "legend()\n",
    "show()\n"
   ]
  },
  {
   "cell_type": "markdown",
   "metadata": {},
   "source": [
    "1) Implemente e teste os seguintes sistemas:\n",
    "\n",
    "a) atrasa a entrada em três unidades<br>\n",
    "$y[n]= T\\{x[n]\\} = x[n-3]$"
   ]
  },
  {
   "cell_type": "code",
   "execution_count": 4,
   "metadata": {},
   "outputs": [
    {
     "data": {
      "image/png": "[encoded data removed]",
      "text/plain": [
       "<Figure size 432x288 with 1 Axes>"
      ]
     },
     "metadata": {
      "needs_background": "light"
     },
     "output_type": "display_data"
    }
   ],
   "source": [
    "# deslocamento de 3 unidades\n",
    "def sistema_A(x):\n",
    "    y = concatenate((zeros(3), x))\n",
    "    return y\n",
    "\n",
    "n = arange(9)\n",
    "x = array([0, 0, 0, 1, 3, 5, 4, 0, 0]);\n",
    "\n",
    "y=sistema_A(x)\n",
    "\n",
    "ny = arange(12)\n",
    "stem(n,x,linefmt='b-',markerfmt='bo',basefmt='b',label='x')\n",
    "# plota a saida deslocada de 0.1 para \"enxergar\" o valor\n",
    "stem(ny+0.1,y,linefmt='r-',markerfmt='ro',basefmt='r',label='y')\n",
    "legend()\n",
    "show()"
   ]
  },
  {
   "cell_type": "markdown",
   "metadata": {},
   "source": [
    "b) a saída corresponde ao valor cúbico da entrada.<br>\n",
    "$y[n]= T\\{x[n]\\} = x[n]^3$"
   ]
  },
  {
   "cell_type": "code",
   "execution_count": 5,
   "metadata": {},
   "outputs": [
    {
     "data": {
      "image/png": "[encoded data removed]",
      "text/plain": [
       "<Figure size 432x288 with 1 Axes>"
      ]
     },
     "metadata": {
      "needs_background": "light"
     },
     "output_type": "display_data"
    }
   ],
   "source": [
    "def sistema_C(x):\n",
    "    y = x**3\n",
    "    return y\n",
    "\n",
    "n = arange(9)\n",
    "x = array([0, 0, 0, 1, 3, 5, 4, 0, 0]);\n",
    "\n",
    "y=sistema_C(x)\n",
    "\n",
    "stem(n,x,linefmt='b-',markerfmt='bo',basefmt='b',label='x')\n",
    "# plota a saida deslocada de 0.1 para \"enxergar\" o valor\n",
    "stem(n+0.1,y,linefmt='r-',markerfmt='ro',basefmt='r',label='y')\n",
    "legend()\n",
    "show()"
   ]
  },
  {
   "cell_type": "markdown",
   "metadata": {},
   "source": [
    "c) a saída corresponde ao dobro da entrada somada ao valor 4.<br>\n",
    "$y[n]= T\\{x[n]\\} = 2x[n]+4$"
   ]
  },
  {
   "cell_type": "code",
   "execution_count": 6,
   "metadata": {},
   "outputs": [
    {
     "data": {
      "image/png": "[encoded data removed]",
      "text/plain": [
       "<Figure size 432x288 with 1 Axes>"
      ]
     },
     "metadata": {
      "needs_background": "light"
     },
     "output_type": "display_data"
    }
   ],
   "source": [
    "def sistema_C(x):\n",
    "    y = 2 * x + 4\n",
    "    return y\n",
    "\n",
    "n = arange(9)\n",
    "x = array([0, 0, 0, 1, 3, 5, 4, 0, 0]);\n",
    "\n",
    "y=sistema_C(x)\n",
    "\n",
    "stem(n,x,linefmt='b-',markerfmt='bo',basefmt='b',label='x')\n",
    "# plota a saida deslocada de 0.1 para \"enxergar\" o valor\n",
    "stem(n+0.1,y,linefmt='r-',markerfmt='ro',basefmt='r',label='y')\n",
    "legend()\n",
    "show()"
   ]
  },
  {
   "cell_type": "markdown",
   "metadata": {},
   "source": [
    "d) a saída corresponde a uma combinação linear da entrada multiplicada por 2 mais a entrada deslocada de 1 unidade multiplicada por 3.<br>\n",
    "$y[n]= T\\{x[n]\\} = 2x[n] + 3x[n-1]$"
   ]
  },
  {
   "cell_type": "code",
   "execution_count": 22,
   "metadata": {},
   "outputs": [
    {
     "data": {
      "image/png": "[encoded data removed]",
      "text/plain": [
       "<Figure size 432x288 with 1 Axes>"
      ]
     },
     "metadata": {
      "needs_background": "light"
     },
     "output_type": "display_data"
    }
   ],
   "source": [
    "def sistema_D(x):\n",
    "    x_aux = concatenate((zeros(1), x))\n",
    "    y = 2*x_aux[1:] + 3*x_aux[0:len(x)]\n",
    "    \n",
    "    return y\n",
    "\n",
    "n = arange(9)\n",
    "x = array([0, 0, 0, 1, 3, 5, 4, 0, 0]);\n",
    "\n",
    "y=sistema_D(x)\n",
    "\n",
    "stem(n,x,linefmt='b-',markerfmt='bo',basefmt='b',label='x')\n",
    "# plota a saida deslocada de 0.1 para \"enxergar\" o valor\n",
    "stem(n+0.1,y,linefmt='r-',markerfmt='ro',basefmt='r',label='y')\n",
    "legend()\n",
    "show()"
   ]
  },
  {
   "cell_type": "markdown",
   "metadata": {},
   "source": [
    "e) Média-móvel: Cada valor da saída seja a média aritmética do valor de entrada e suas 2 posições anteriores.<br>\n",
    "$y[n]= T\\{x[n]\\} = \\frac{1}{3}\\sum_{k=n-2}^{n}{x[k]}$"
   ]
  },
  {
   "cell_type": "code",
   "execution_count": 5,
   "metadata": {},
   "outputs": [
    {
     "data": {
      "image/png": "[encoded data removed]",
      "text/plain": [
       "<Figure size 432x288 with 1 Axes>"
      ]
     },
     "metadata": {
      "needs_background": "light"
     },
     "output_type": "display_data"
    }
   ],
   "source": [
    "def sistema_E(x):\n",
    "    y = zeros(9)\n",
    "    for i in range(len(x)):\n",
    "        y[i] = float((x[i-2]+x[i-1]+x[i])/3)\n",
    "    return y\n",
    "\n",
    "n = arange(9)\n",
    "x = array([0, 0, 0, 1, 3, 5, 4, 0, 0]);\n",
    "\n",
    "y=sistema_E(x)\n",
    "\n",
    "stem(n,x,linefmt='b-',markerfmt='bo',basefmt='b',label='x')\n",
    "# plota a saida deslocada de 0.1 para \"enxergar\" o valor\n",
    "stem(n+0.1,y,linefmt='r-',markerfmt='ro',basefmt='r',label='y')\n",
    "legend()\n",
    "show()"
   ]
  },
  {
   "cell_type": "markdown",
   "metadata": {},
   "source": [
    "f) Acumulador. A saída corresponde a acumulação (soma) dos valores da entrada até o presente momento.<br>\n",
    "$y[n]= T\\{x[n]\\} = \\sum_{k=-\\infty}^{n}{x[k]}$"
   ]
  },
  {
   "cell_type": "code",
   "execution_count": 24,
   "metadata": {},
   "outputs": [
    {
     "data": {
      "image/png": "[encoded data removed]",
      "text/plain": [
       "<Figure size 432x288 with 1 Axes>"
      ]
     },
     "metadata": {
      "needs_background": "light"
     },
     "output_type": "display_data"
    }
   ],
   "source": [
    "def sistema_F(x):\n",
    "    y = zeros(9)\n",
    "    for i in range(len(x)):\n",
    "        y[i] = y[i-1] + x[i]\n",
    "    return y\n",
    "\n",
    "n = arange(9)\n",
    "x = array([0, 0, 0, 1, 3, 5, 4, 0, 0]);\n",
    "\n",
    "y=sistema_F(x)\n",
    "\n",
    "stem(n,x,linefmt='b-',markerfmt='bo',basefmt='b',label='x')\n",
    "# plota a saida deslocada de 0.1 para \"enxergar\" o valor\n",
    "stem(n+0.1,y,linefmt='r-',markerfmt='ro',basefmt='r',label='y')\n",
    "legend()\n",
    "show()"
   ]
  },
  {
   "cell_type": "markdown",
   "metadata": {},
   "source": [
    "2) Classifique os sistemas anteriores dizendo se são:\\\n",
    "I) linear ou não linear\\\n",
    "II) com memória ou sem memória\\\n",
    "III) invariante ao deslocamento ou variante ao deslocamento\\\n",
    "IV) causal ou não causal\\\n",
    "V) estável ou não estável"
   ]
  },
  {
   "cell_type": "markdown",
   "metadata": {},
   "source": [
    "a) a) atrasa a entrada em três unidades<br>\n",
    "$y[n]= T\\{x[n]\\} = x[n-3]$<br>\n",
    "Linear<br>\n",
    "Com memória<br>\n",
    "Invariante ao deslocamento<br>\n",
    "Causal<br>\n",
    "Estável\n"
   ]
  },
  {
   "cell_type": "markdown",
   "metadata": {},
   "source": [
    "b) a saída corresponde ao valor quadrático da entrada.<br>\n",
    "$y[n]= T\\{x[n]\\} = x[n]^3$<br>\n",
    "Não linear<br>\n",
    "Sem memória<br>\n",
    "Invariante ao deslocamento<br>\n",
    "Causal<br>\n",
    "Estável"
   ]
  },
  {
   "cell_type": "markdown",
   "metadata": {},
   "source": [
    "c) a saída corresponde ao dobro da entrada somada ao valor 5.<br>\n",
    "$y[n]= T\\{x[n]\\} = 2x[n]+4$<br>\n",
    "Não linear<br>\n",
    "Sem memória<br>\n",
    "Invariante ao deslocamento<br>\n",
    "Causal<br>\n",
    "Estável"
   ]
  },
  {
   "cell_type": "markdown",
   "metadata": {},
   "source": [
    "d) a saída corresponde a uma combinação linear da entrada multiplicada por 2 mais a entrada deslocada de 1 unidade multiplicada por 3.<br>\n",
    "$y[n]= T\\{x[n]\\} = 2x[n]+3x[n-1]$<br>\n",
    "Linear<br>\n",
    "Com memória<br>\n",
    "Variante ao deslocamento<br>\n",
    "Causal<br>\n",
    "Estável"
   ]
  },
  {
   "cell_type": "markdown",
   "metadata": {},
   "source": [
    "e) Média-móvel: Cada valor da saída seja a média aritmética do valor de entrada e suas 2 posições anteriores.<br>\n",
    "$y[n]= T\\{x[n]\\} = \\frac{1}{3}\\sum_{k=n-2}^{n}{x[k]}$<br>\n",
    "Linear<br>\n",
    "Com memória<br>\n",
    "Invariante ao deslocamento<br>\n",
    "Causal<br>\n",
    "Estável"
   ]
  },
  {
   "cell_type": "markdown",
   "metadata": {},
   "source": [
    "f) Acumulador. A saída corresponde a acumulação (soma) dos valores da entrada até o presente momento.<br>\n",
    "$y[n]= T\\{x[n]\\} = \\sum_{k=-\\infty}^{n}{x[k]}$<br>\n",
    "Linear<br>\n",
    "Com memória<br>\n",
    "Variante ao deslocamento<br>\n",
    "Causal<br>\n",
    "Não estável"
   ]
  },
  {
   "cell_type": "code",
   "execution_count": null,
   "metadata": {},
   "outputs": [],
   "source": []
  }
 ],
 "metadata": {
  "kernelspec": {
   "display_name": "Python 3 (ipykernel)",
   "language": "python",
   "name": "python3"
  },
  "language_info": {
   "codemirror_mode": {
    "name": "ipython",
    "version": 3
   },
   "file_extension": ".py",
   "mimetype": "text/x-python",
   "name": "python",
   "nbconvert_exporter": "python",
   "pygments_lexer": "ipython3",
   "version": "3.7.3"
  }
 },
 "nbformat": 4,
 "nbformat_minor": 4
}
